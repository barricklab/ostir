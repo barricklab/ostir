{
 "cells": [
  {
   "cell_type": "code",
   "execution_count": null,
   "metadata": {},
   "outputs": [
   ],
   "source": [
    "import numpy as np\n",
    "import pandas as pd\n",
    "import matplotlib.pyplot as plt\n",
    "\n",
    "from scipy.optimize import curve_fit\n",
    "from sklearn.linear_model import LinearRegression\n"
   ]
  },
  {
   "cell_type": "code",
   "execution_count": null,
   "metadata": {},
   "outputs": [],
   "source": [
    "df_dataset = pd.read_csv(\"./input.csv\", comment=\"#\")\n",
    "df_dataset.head()"
   ]
  },
  {
   "cell_type": "code",
   "execution_count": null,
   "metadata": {},
   "outputs": [],
   "source": [
    "dG_no_spacing = df_dataset[\"OSTIR.ViennaRNA.Turner2004.No.Spacing.dG\"].values\n",
    "\n",
    "# onehot encoding - same factor in R\n",
    "spacing = df_dataset[\"Spacing\"].astype(float).values\n",
    "onehot_df = pd.get_dummies(df_dataset[\"Spacing\"], dtype=float)\n",
    "spacing_onehot, spacing_label = onehot_df.values, onehot_df.columns\n",
    "\n",
    "X = np.concatenate([dG_no_spacing.reshape(-1, 1), spacing_onehot], axis=1)\n",
    "X_label = [\"dG\"] + [f\"spacing_{i}\" for i in spacing_label]\n",
    "y = np.log(df_dataset[\"Fluorescence.Average\"].values)"
   ]
  },
  {
   "cell_type": "code",
   "execution_count": null,
   "metadata": {},
   "outputs": [],
   "source": [
    "spacing_optimal = 5\n",
    "model = LinearRegression(fit_intercept=False)\n",
    "model.fit(X, y)\n",
    "\n",
    "Beta = -model.coef_[X_label.index(\"dG\")]\n",
    "logK = model.coef_[X_label.index(f\"spacing_{spacing_optimal}\")]\n",
    "\n",
    "spacing_deviation_dG = -(1 / Beta) * (y - logK) - dG_no_spacing"
   ]
  },
  {
   "cell_type": "code",
   "execution_count": null,
   "metadata": {},
   "outputs": [],
   "source": [
    "def assign_parameters(params):\n",
    "    # assign to corresponding variables\n",
    "    c_stretched = np.array(params[0:3])\n",
    "    c_compressed = np.array(params[3:7])\n",
    "    y0 = params[7]\n",
    "    \n",
    "    # override some parameters\n",
    "    # define additional constraints here\n",
    "    c_stretched[2] = 0\n",
    "    # c_compressed[2] = 2\n",
    "    c_compressed[3] = 3\n",
    "    \n",
    "    return c_stretched, c_compressed, y0\n",
    "\n",
    "\n",
    "def spring_model(spacing, *params, use_y0=True):\n",
    "    # assign to variables\n",
    "    c_stretched, c_compressed, y0 = assign_parameters(params)\n",
    "    \n",
    "    # calculate stretched and compressed values\n",
    "    spacing_diff = spacing - spacing_optimal\n",
    "    stretched = c_stretched[0] * spacing_diff ** 2 + c_stretched[1] * spacing_diff + c_stretched[2]\n",
    "    compressed = c_compressed[0] / (1.0 + np.exp(c_compressed[1] * (spacing_diff + c_compressed[2]))) ** c_compressed[3]\n",
    "    \n",
    "    # save and output\n",
    "    output = np.zeros_like(spacing)\n",
    "    output[spacing_diff >= 0] = stretched[spacing_diff >= 0]\n",
    "    output[spacing_diff < 0] = compressed[spacing_diff < 0]\n",
    "    if use_y0: output += y0\n",
    "    return output\n"
   ]
  },
  {
   "cell_type": "code",
   "execution_count": null,
   "metadata": {},
   "outputs": [],
   "source": [
    "# fit parameters\n",
    "param_fit, cov = curve_fit(\n",
    "    spring_model,\n",
    "    spacing,\n",
    "    spacing_deviation_dG,\n",
    "    p0=[0.048, 0.24, 0.0, 12.2, 2.5, 2.0, 3.0, 0.0]\n",
    ")\n",
    "\n",
    "c_stretched, c_compressed, y0 = assign_parameters(param_fit)\n",
    "logK += y0 * -Beta"
   ]
  },
  {
   "cell_type": "code",
   "execution_count": null,
   "metadata": {},
   "outputs": [],
   "source": [
    "spacing_penalty_dG = spring_model(spacing, *param_fit, use_y0=False)\n",
    "total_dG = dG_no_spacing + spacing_penalty_dG\n",
    "log_expression = (-Beta * total_dG + logK)\n"
   ]
  },
  {
   "cell_type": "code",
   "execution_count": null,
   "metadata": {},
   "outputs": [],
   "source": [
    "# plot fitting result\n",
    "x_plot = np.linspace(0, 20, 101)\n",
    "plt.figure(figsize=(6, 6))\n",
    "plt.plot(x_plot, spring_model(x_plot, *param_fit, use_y0=False))\n",
    "plt.plot(spacing, spacing_deviation_dG, '.')\n",
    "plt.xlabel('RBS distance (nt)')\n",
    "plt.ylabel('$\\Delta G_{spacing}$')\n",
    "plt.show()"
   ]
  },
  {
   "cell_type": "code",
   "execution_count": null,
   "metadata": {},
   "outputs": [],
   "source": [
    "# plot predicted vs measured log10 expression\n",
    "plt.figure(figsize=(6, 6))\n",
    "plt.plot(total_dG, y, \".\")\n",
    "\n",
    "plt.xlabel(\"$\\Delta G_{total}$\")\n",
    "plt.ylabel(\"$Log(Measured\\ Translation\\ Initiation\\ Rate)$\")\n",
    "plt.show()"
   ]
  },
  {
   "cell_type": "code",
   "execution_count": null,
   "metadata": {},
   "outputs": [],
   "source": [
    "# plot predicted vs measured log10 expression\n",
    "plt.figure(figsize=(6, 6))\n",
    "plt.plot(log_expression / np.log(10), y / np.log(10), '.')\n",
    "\n",
    "plt.title(f\"$R^2$ = {np.corrcoef(log_expression, y)[0, 1] ** 2:.3f}\")\n",
    "lim = (-0.6, 5.6)\n",
    "plt.plot(lim, lim, 'k--', alpha=0.5)\n",
    "plt.xlim(lim)\n",
    "plt.ylim(lim)\n",
    "plt.xlabel('$Log_{10}(Predicted\\ Rate)$')\n",
    "plt.ylabel('$Log_{10}(Measured\\ Rate)$')\n",
    "plt.show()\n"
   ]
  },
  {
   "cell_type": "code",
   "execution_count": null,
   "metadata": {},
   "outputs": [],
   "source": [
    "# plot cumulative log2 fold error\n",
    "log2_tir_ratio = (y - log_expression) / np.log(2)\n",
    "\n",
    "plt.figure()\n",
    "plt.hist(\n",
    "    np.abs(log2_tir_ratio),\n",
    "    bins=np.linspace(0, 5, 501),\n",
    "    histtype='step',\n",
    "    cumulative=True,\n",
    "    density=True,\n",
    "    fill=False,\n",
    ")\n",
    "plt.xlabel(\"$Log_2(Fold\\ Error)$\")\n",
    "plt.ylabel(\"$Fraction < Log_2(Fold\\ Error)$\")\n",
    "plt.xlim((0, 5))\n",
    "plt.ylim((0, 1))\n",
    "plt.show()"
   ]
  },
  {
   "cell_type": "code",
   "execution_count": null,
   "metadata": {},
   "outputs": [],
   "source": [
    "# export constants to a json file\n",
    "from ostir.ostir_calculations import OstirConstants\n",
    "calibrated_constants = OstirConstants(\n",
    "    Beta=Beta,\n",
    "    logK=logK,\n",
    "    dG_spacing_constant_push=c_compressed,\n",
    "    dG_spacing_constant_pull=c_stretched\n",
    ")\n",
    "\n",
    "calibrated_constants.save_to_json('./fitted_constants.json')\n"
   ]
  },
  {
   "cell_type": "code",
   "execution_count": null,
   "metadata": {},
   "outputs": [],
   "source": [
    "df_dataset['dG'] = dG_no_spacing\n",
    "df_dataset['Fluorescence.Log.Average'] = y\n",
    "df_dataset['spacing.deviation.dG'] = spacing_deviation_dG\n",
    "df_dataset['spacing.penalty.dG'] = spacing_penalty_dG\n",
    "df_dataset['total.dG'] = total_dG\n",
    "df_dataset['Log.Predicted.Translation.Initiation.Rate'] = log_expression\n",
    "df_dataset['Log10.Predicted.Translation.Initiation.Rate'] = log_expression / np.log(10)\n",
    "df_dataset['Log.Measured.Translation.Initiation.Rate'] = y\n",
    "df_dataset['Log10.Measured.Translation.Initiation.Rate'] = y / np.log(10)\n",
    "df_dataset['Log2.Translation.Initiation.Rate.Ratio'] = log2_tir_ratio\n",
    "df_dataset['Abs.Log2.Translation.Initiation.Rate.Ratio'] = np.abs(log2_tir_ratio)\n",
    "df_dataset['Predicted.Translation.Initiation.Rate'] = np.exp(log_expression)\n",
    "df_dataset.to_csv('output_fit_values_python.csv')"
   ]
  },
  {
   "cell_type": "code",
   "execution_count": null,
   "metadata": {},
   "outputs": [],
   "source": [
    "# example of deploying the calibrated constants\n",
    "from ostir import ostir_calculations, run_ostir\n",
    "\n",
    "ostir_calculations.ostir_constants = calibrated_constants\n",
    "# alternatively, load from file:\n",
    "# ostir_calculations.ostir_constants = ostir_calculations.OstirConstants.load_from_json('./fitted_constants.json')\n",
    "seq = \"TTCTAGAAAAAAAATAAGGAGGTATGGCGAGCTCTGAAGACGTTATCAAAGAGTTCATGCGTTTCAAAGTTCGTATGGAA\"\n",
    "\n",
    "results = run_ostir(seq)\n",
    "print(\n",
    "    *[\n",
    "        f'start position {result[\"start_position\"]}, expression {result[\"expression\"]}'\n",
    "        for result in results\n",
    "    ],\n",
    "    sep=\"\\n\",\n",
    ")"
   ]
  },
  {
   "cell_type": "code",
   "execution_count": null,
   "metadata": {},
   "outputs": [],
   "source": []
  }
 ],
 "metadata": {
  "kernelspec": {
   "display_name": "Python 3 (ipykernel)",
   "language": "python",
   "name": "python3"
  },
  "language_info": {
   "codemirror_mode": {
    "name": "ipython",
    "version": 3
   },
   "file_extension": ".py",
   "mimetype": "text/x-python",
   "name": "python",
   "nbconvert_exporter": "python",
   "pygments_lexer": "ipython3",
   "version": "3.12.3"
  }
 },
 "nbformat": 4,
 "nbformat_minor": 4
}
